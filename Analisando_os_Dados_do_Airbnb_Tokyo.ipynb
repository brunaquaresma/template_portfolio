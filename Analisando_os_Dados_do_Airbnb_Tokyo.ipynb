{
  "nbformat": 4,
  "nbformat_minor": 0,
  "metadata": {
    "colab": {
      "name": "Analisando os Dados do Airbnb Tokyo.ipynb",
      "provenance": [],
      "collapsed_sections": []
    },
    "kernelspec": {
      "name": "python3",
      "display_name": "Python 3"
    }
  },
  "cells": [
    {
      "cell_type": "markdown",
      "metadata": {
        "id": "kLI0gJtzDGuQ",
        "colab_type": "text"
      },
      "source": [
        "\n",
        "\n",
        "# Airbnb, **Tokyo, Kantō, Japan**: uma análise exploratória dos dados.\n",
        "\n",
        "O [Airbnb](https://www.airbnb.com.br/) já é considerado como sendo a **maior empresa hoteleira da atualidade**. Ah, o detalhe é que ele **não possui nenhum hotel**!\n",
        "\n",
        "Conectando pessoas que querem viajar (e se hospedar) com anfitriões que querem alugar seus imóveis de maneira prática, o Airbnb fornece uma plataforma inovadora para tornar essa hospedagem alternativa.\n",
        "\n",
        "<center><img alt=\"Analisando Airbnb\" width=\"10%\" src=\"https://www.area360.com.au/wp-content/uploads/2017/09/airbnb-logo.jpg\"></center>\n",
        "\n",
        "**Tokyo (Tóquio), Kantō, Japan**\n",
        "\n",
        "Depois de séculos de resistência à influência estrangeira, a Revolução Meiji (1868) abriu os portos do país e transferiu a capital do império japonês de Kyoto para a então cidade de Edo, uma antiga vila de pescadores, que passou a se chamar Tóquio (“capital do leste”).\n",
        "\n",
        "À beira da baía em que deságua o rio Sumida, a cidade cresceu, foi destruída por um violento terremoto em 1923, reconstruída e destruída de novo nos bombardeios B-29s americanos durante a Segunda Guerra Mundial. \n",
        "\n",
        "Em 1964, estava pronta para sediar os Jogos Olímpicos – evento que a cidade abrigaria em 2020, mas foi adiado devido à pandemia do novo coronavírus, o torneio acontecerá entre 23 de julho e 8 de agosto de 2021, quando são esperados milhares de turistas de todas as partes do mundo. As obras, que incluem 10 novos equipamentos esportivos, estão – como é natural em se tratando do Japão – rigorosamente dentro do cronograma. \n",
        "\n",
        "\n",
        "Neste *notebook*, iremos introduzir os primeiros passos para uma boa análise exploratória de dados utilizando o *dataset* referentes à cidade **Tokyo, Kantō, Japan**, e ver quais insights podem ser extraídos para facilitar as melhores escolhas dos turistas."
      ]
    },
    {
      "cell_type": "markdown",
      "metadata": {
        "id": "0zxQHhIUDF_2",
        "colab_type": "text"
      },
      "source": [
        "## Obtenção dos Dados\n",
        "\n",
        "Todos os dados utilizados neste projeto foram obtidos a partir do site [Inside Airbnb](http://insideairbnb.com/get-the-data.html).\n",
        "\n",
        "Para está análise exploratória inicial foi utilizado o seguinte arquivo:\n",
        "\n",
        "\n",
        "\n",
        "*   listings.csv - *Summary information and metrics for listings in Tokyo (good for visualisations).*\n",
        "\n",
        "\n",
        "\n",
        "\n"
      ]
    },
    {
      "cell_type": "code",
      "metadata": {
        "id": "Vhp2wMPgJ6zX",
        "colab_type": "code",
        "outputId": "46c4c267-6db8-4180-cc21-d5ecd601e29f",
        "colab": {
          "base_uri": "https://localhost:8080/",
          "height": 71
        }
      },
      "source": [
        "# importar os pacotes necessarios\n",
        "\n",
        "import pandas as pd\n",
        "import matplotlib.pyplot as plt\n",
        "import seaborn as sns\n",
        "\n",
        "%matplotlib inline\n"
      ],
      "execution_count": 0,
      "outputs": [
        {
          "output_type": "stream",
          "text": [
            "/usr/local/lib/python3.6/dist-packages/statsmodels/tools/_testing.py:19: FutureWarning: pandas.util.testing is deprecated. Use the functions in the public API at pandas.testing instead.\n",
            "  import pandas.util.testing as tm\n"
          ],
          "name": "stderr"
        }
      ]
    },
    {
      "cell_type": "code",
      "metadata": {
        "id": "tUmoAT8DLQ5T",
        "colab_type": "code",
        "colab": {}
      },
      "source": [
        "# importar o arquivo listings.csv para um DataFrame\n",
        "df_tokyo = pd.read_csv(\"http://data.insideairbnb.com/japan/kant%C5%8D/tokyo/2020-04-28/visualisations/listings.csv\")\n"
      ],
      "execution_count": 0,
      "outputs": []
    },
    {
      "cell_type": "markdown",
      "metadata": {
        "id": "qb5By2nIMS6m",
        "colab_type": "text"
      },
      "source": [
        "## Análise dos Dados\n",
        "\n",
        "  A análise exploratória de dados, se concentra no primeiro passo de qualquer projeto de ciência de dados, uma área relativamente nova da estatística.\n",
        "  O campo de análise de dados exploratórios nasceu com o, agora clássico,  livro de Tukey, *Exploratory Data Analysis*, de 1977. Jonhn Tukey, foi um estatístico cujas ideias, apresentadas há mais de 50 anos, foram o fundamento da ciência de dados."
      ]
    },
    {
      "cell_type": "markdown",
      "metadata": {
        "id": "RYgvuebKNg8-",
        "colab_type": "text"
      },
      "source": [
        "**Dicionário das variáveis**\n",
        "\n",
        "* ... **id** - número de id gerado para identificar o imóvel\n",
        "* ... **name** - nome da propriedade anunciada\n",
        "* ... **host_id** - número de id do proprietário (anfitrião) da propriedade\n",
        "* ... **host_name** - Nome do anfitrião\n",
        "* ... **neighbourhood_group** - esta coluna não contém nenhum valor válido\n",
        "* ... **neighbourhood** - nome do bairro\n",
        "* ... **latitude** - coordenada da latitude da propriedade\n",
        "* ... **longitude** - coordenada da longitude da propriedade\n",
        "* ... **room_type** - informa o tipo de quarto que é oferecido\n",
        "* ... **price** - preço para alugar o imóvel\n",
        "* ... **minimum_nights** - quantidade mínima de noites para reservar\n",
        "* ... **number_of_reviews** - número de reviews que a propriedade possui\n",
        "* ... **last_review** - data do último review\n",
        "* ... **reviews_per_month** - quantidade de reviews por mês\n",
        "* ... **calculated_host_listings_count** - quantidade de imóveis do mesmo anfitrião\n",
        "* ... **availability_365** - número de dias de disponibilidade dentro de 365 dias\n",
        "\n"
      ]
    },
    {
      "cell_type": "markdown",
      "metadata": {
        "id": "LUdQVLlKKQWf",
        "colab_type": "text"
      },
      "source": [
        "### Antes de iniciar qualquer análise, vamos verificar a cara do nosso *dataset*, analisando as 5 primeiras e últimas entradas.\n",
        "\n",
        "Este dataset é a versão \"resumida\" do *Airbnb*. Na mesma página que baixamos o arquivo listings.csv há uma versão mais completa (listings.csv.gz)."
      ]
    },
    {
      "cell_type": "code",
      "metadata": {
        "id": "2iS_dae7YQtO",
        "colab_type": "code",
        "outputId": "24e74093-a78d-411f-e47c-e9ce8e5a836d",
        "colab": {
          "base_uri": "https://localhost:8080/",
          "height": 462
        }
      },
      "source": [
        "# 5 primeiras entradas\n",
        "\n",
        "df_tokyo.head()\n"
      ],
      "execution_count": 0,
      "outputs": [
        {
          "output_type": "execute_result",
          "data": {
            "text/html": [
              "<div>\n",
              "<style scoped>\n",
              "    .dataframe tbody tr th:only-of-type {\n",
              "        vertical-align: middle;\n",
              "    }\n",
              "\n",
              "    .dataframe tbody tr th {\n",
              "        vertical-align: top;\n",
              "    }\n",
              "\n",
              "    .dataframe thead th {\n",
              "        text-align: right;\n",
              "    }\n",
              "</style>\n",
              "<table border=\"1\" class=\"dataframe\">\n",
              "  <thead>\n",
              "    <tr style=\"text-align: right;\">\n",
              "      <th></th>\n",
              "      <th>id</th>\n",
              "      <th>name</th>\n",
              "      <th>host_id</th>\n",
              "      <th>host_name</th>\n",
              "      <th>neighbourhood_group</th>\n",
              "      <th>neighbourhood</th>\n",
              "      <th>latitude</th>\n",
              "      <th>longitude</th>\n",
              "      <th>room_type</th>\n",
              "      <th>price</th>\n",
              "      <th>minimum_nights</th>\n",
              "      <th>number_of_reviews</th>\n",
              "      <th>last_review</th>\n",
              "      <th>reviews_per_month</th>\n",
              "      <th>calculated_host_listings_count</th>\n",
              "      <th>availability_365</th>\n",
              "    </tr>\n",
              "  </thead>\n",
              "  <tbody>\n",
              "    <tr>\n",
              "      <th>0</th>\n",
              "      <td>35303</td>\n",
              "      <td>La Casa Gaienmae C Harajuku, Omotesando is nearby</td>\n",
              "      <td>151977</td>\n",
              "      <td>Miyuki</td>\n",
              "      <td>NaN</td>\n",
              "      <td>Shibuya Ku</td>\n",
              "      <td>35.67152</td>\n",
              "      <td>139.71203</td>\n",
              "      <td>Private room</td>\n",
              "      <td>4183</td>\n",
              "      <td>28</td>\n",
              "      <td>18</td>\n",
              "      <td>2018-07-28</td>\n",
              "      <td>0.18</td>\n",
              "      <td>3</td>\n",
              "      <td>89</td>\n",
              "    </tr>\n",
              "    <tr>\n",
              "      <th>1</th>\n",
              "      <td>197677</td>\n",
              "      <td>Oshiage Holiday Apartment</td>\n",
              "      <td>964081</td>\n",
              "      <td>Yoshimi &amp; Marek</td>\n",
              "      <td>NaN</td>\n",
              "      <td>Sumida Ku</td>\n",
              "      <td>35.71721</td>\n",
              "      <td>139.82596</td>\n",
              "      <td>Entire home/apt</td>\n",
              "      <td>11048</td>\n",
              "      <td>3</td>\n",
              "      <td>165</td>\n",
              "      <td>2020-03-04</td>\n",
              "      <td>1.57</td>\n",
              "      <td>1</td>\n",
              "      <td>271</td>\n",
              "    </tr>\n",
              "    <tr>\n",
              "      <th>2</th>\n",
              "      <td>289597</td>\n",
              "      <td>Private apt in central Tokyo #203</td>\n",
              "      <td>341577</td>\n",
              "      <td>Hide&amp;Kei</td>\n",
              "      <td>NaN</td>\n",
              "      <td>Nerima Ku</td>\n",
              "      <td>35.74267</td>\n",
              "      <td>139.65810</td>\n",
              "      <td>Entire home/apt</td>\n",
              "      <td>4171</td>\n",
              "      <td>28</td>\n",
              "      <td>113</td>\n",
              "      <td>2020-02-17</td>\n",
              "      <td>1.18</td>\n",
              "      <td>2</td>\n",
              "      <td>241</td>\n",
              "    </tr>\n",
              "    <tr>\n",
              "      <th>3</th>\n",
              "      <td>370759</td>\n",
              "      <td>Cozy flat #203, local area YET 10 mins to shib...</td>\n",
              "      <td>1573631</td>\n",
              "      <td>Gilles,Mayumi,Taiki</td>\n",
              "      <td>NaN</td>\n",
              "      <td>Setagaya Ku</td>\n",
              "      <td>35.66443</td>\n",
              "      <td>139.65707</td>\n",
              "      <td>Entire home/apt</td>\n",
              "      <td>6952</td>\n",
              "      <td>28</td>\n",
              "      <td>103</td>\n",
              "      <td>2020-04-16</td>\n",
              "      <td>1.39</td>\n",
              "      <td>3</td>\n",
              "      <td>364</td>\n",
              "    </tr>\n",
              "    <tr>\n",
              "      <th>4</th>\n",
              "      <td>700253</td>\n",
              "      <td>Private apt in central Tokyo #201</td>\n",
              "      <td>341577</td>\n",
              "      <td>Hide&amp;Kei</td>\n",
              "      <td>NaN</td>\n",
              "      <td>Nerima Ku</td>\n",
              "      <td>35.74264</td>\n",
              "      <td>139.65832</td>\n",
              "      <td>Entire home/apt</td>\n",
              "      <td>3957</td>\n",
              "      <td>28</td>\n",
              "      <td>103</td>\n",
              "      <td>2019-10-04</td>\n",
              "      <td>1.12</td>\n",
              "      <td>2</td>\n",
              "      <td>340</td>\n",
              "    </tr>\n",
              "  </tbody>\n",
              "</table>\n",
              "</div>"
            ],
            "text/plain": [
              "       id  ... availability_365\n",
              "0   35303  ...               89\n",
              "1  197677  ...              271\n",
              "2  289597  ...              241\n",
              "3  370759  ...              364\n",
              "4  700253  ...              340\n",
              "\n",
              "[5 rows x 16 columns]"
            ]
          },
          "metadata": {
            "tags": []
          },
          "execution_count": 4
        }
      ]
    },
    {
      "cell_type": "code",
      "metadata": {
        "id": "T6fn9K1bAdtq",
        "colab_type": "code",
        "outputId": "7243257d-2124-40e1-cdf3-746fce1e731a",
        "colab": {
          "base_uri": "https://localhost:8080/",
          "height": 411
        }
      },
      "source": [
        "# 5 últimas entradas\n",
        "df_tokyo.tail()"
      ],
      "execution_count": 0,
      "outputs": [
        {
          "output_type": "execute_result",
          "data": {
            "text/html": [
              "<div>\n",
              "<style scoped>\n",
              "    .dataframe tbody tr th:only-of-type {\n",
              "        vertical-align: middle;\n",
              "    }\n",
              "\n",
              "    .dataframe tbody tr th {\n",
              "        vertical-align: top;\n",
              "    }\n",
              "\n",
              "    .dataframe thead th {\n",
              "        text-align: right;\n",
              "    }\n",
              "</style>\n",
              "<table border=\"1\" class=\"dataframe\">\n",
              "  <thead>\n",
              "    <tr style=\"text-align: right;\">\n",
              "      <th></th>\n",
              "      <th>id</th>\n",
              "      <th>name</th>\n",
              "      <th>host_id</th>\n",
              "      <th>host_name</th>\n",
              "      <th>neighbourhood_group</th>\n",
              "      <th>neighbourhood</th>\n",
              "      <th>latitude</th>\n",
              "      <th>longitude</th>\n",
              "      <th>room_type</th>\n",
              "      <th>price</th>\n",
              "      <th>minimum_nights</th>\n",
              "      <th>number_of_reviews</th>\n",
              "      <th>last_review</th>\n",
              "      <th>reviews_per_month</th>\n",
              "      <th>calculated_host_listings_count</th>\n",
              "      <th>availability_365</th>\n",
              "    </tr>\n",
              "  </thead>\n",
              "  <tbody>\n",
              "    <tr>\n",
              "      <th>15347</th>\n",
              "      <td>43260549</td>\n",
              "      <td>Double room/shared bathroom/near Akihabara, Ueno</td>\n",
              "      <td>191971770</td>\n",
              "      <td>Hostel</td>\n",
              "      <td>NaN</td>\n",
              "      <td>Chiyoda Ku</td>\n",
              "      <td>35.69129</td>\n",
              "      <td>139.77351</td>\n",
              "      <td>Private room</td>\n",
              "      <td>5027</td>\n",
              "      <td>1</td>\n",
              "      <td>0</td>\n",
              "      <td>NaN</td>\n",
              "      <td>NaN</td>\n",
              "      <td>4</td>\n",
              "      <td>119</td>\n",
              "    </tr>\n",
              "    <tr>\n",
              "      <th>15348</th>\n",
              "      <td>43260684</td>\n",
              "      <td>Twin room/shared bathroom/near Akihabara,Ueno</td>\n",
              "      <td>191971770</td>\n",
              "      <td>Hostel</td>\n",
              "      <td>NaN</td>\n",
              "      <td>Chiyoda Ku</td>\n",
              "      <td>35.69161</td>\n",
              "      <td>139.77422</td>\n",
              "      <td>Private room</td>\n",
              "      <td>5455</td>\n",
              "      <td>1</td>\n",
              "      <td>0</td>\n",
              "      <td>NaN</td>\n",
              "      <td>NaN</td>\n",
              "      <td>4</td>\n",
              "      <td>96</td>\n",
              "    </tr>\n",
              "    <tr>\n",
              "      <th>15349</th>\n",
              "      <td>43272924</td>\n",
              "      <td>【ﾏﾝｽﾘｰ限定】 お一人様専用</td>\n",
              "      <td>335257890</td>\n",
              "      <td>Blue</td>\n",
              "      <td>NaN</td>\n",
              "      <td>Shinjuku Ku</td>\n",
              "      <td>35.69960</td>\n",
              "      <td>139.69753</td>\n",
              "      <td>Private room</td>\n",
              "      <td>6972</td>\n",
              "      <td>28</td>\n",
              "      <td>0</td>\n",
              "      <td>NaN</td>\n",
              "      <td>NaN</td>\n",
              "      <td>10</td>\n",
              "      <td>95</td>\n",
              "    </tr>\n",
              "    <tr>\n",
              "      <th>15350</th>\n",
              "      <td>43281694</td>\n",
              "      <td>代々木駅徒歩2分 新宿駅徒歩8分 渋谷区</td>\n",
              "      <td>333948576</td>\n",
              "      <td>Kido</td>\n",
              "      <td>NaN</td>\n",
              "      <td>Shibuya Ku</td>\n",
              "      <td>35.68238</td>\n",
              "      <td>139.70195</td>\n",
              "      <td>Entire home/apt</td>\n",
              "      <td>24992</td>\n",
              "      <td>1</td>\n",
              "      <td>0</td>\n",
              "      <td>NaN</td>\n",
              "      <td>NaN</td>\n",
              "      <td>1</td>\n",
              "      <td>176</td>\n",
              "    </tr>\n",
              "    <tr>\n",
              "      <th>15351</th>\n",
              "      <td>43286916</td>\n",
              "      <td>japanese house in shinjuku</td>\n",
              "      <td>341561924</td>\n",
              "      <td>Puchi</td>\n",
              "      <td>NaN</td>\n",
              "      <td>Shinjuku Ku</td>\n",
              "      <td>35.70423</td>\n",
              "      <td>139.72478</td>\n",
              "      <td>Entire home/apt</td>\n",
              "      <td>25028</td>\n",
              "      <td>1</td>\n",
              "      <td>0</td>\n",
              "      <td>NaN</td>\n",
              "      <td>NaN</td>\n",
              "      <td>1</td>\n",
              "      <td>365</td>\n",
              "    </tr>\n",
              "  </tbody>\n",
              "</table>\n",
              "</div>"
            ],
            "text/plain": [
              "             id  ... availability_365\n",
              "15347  43260549  ...              119\n",
              "15348  43260684  ...               96\n",
              "15349  43272924  ...               95\n",
              "15350  43281694  ...              176\n",
              "15351  43286916  ...              365\n",
              "\n",
              "[5 rows x 16 columns]"
            ]
          },
          "metadata": {
            "tags": []
          },
          "execution_count": 5
        }
      ]
    },
    {
      "cell_type": "markdown",
      "metadata": {
        "id": "6-B_qtEaYEd-",
        "colab_type": "text"
      },
      "source": [
        "### **Quantos atributos (variáveis) e quantas entradas o nosso conjunto de dados possui? Quais os tipos das variáveis?**"
      ]
    },
    {
      "cell_type": "markdown",
      "metadata": {
        "id": "Whge1tW9KEXq",
        "colab_type": "text"
      },
      "source": [
        "Vamos prosseguir e identificar a quantidade de entradas que nosso conjunto de dados possui e ver os tipos de cada coluna."
      ]
    },
    {
      "cell_type": "code",
      "metadata": {
        "id": "TFRK0tniLV-G",
        "colab_type": "code",
        "outputId": "1a9126e1-f706-45af-e53a-aa14bc654b7a",
        "colab": {
          "base_uri": "https://localhost:8080/",
          "height": 357
        }
      },
      "source": [
        "# identificar o volume de dados do DataFrame\n",
        "\n",
        "print(\"Entradas:\\t {}\".format(df_tokyo.shape[0]))\n",
        "print(\"Variáveis:\\t{}\\n\".format(df_tokyo.shape[1]))\n",
        "\n",
        "display(df_tokyo.dtypes)\n"
      ],
      "execution_count": 0,
      "outputs": [
        {
          "output_type": "stream",
          "text": [
            "Entradas:\t 15352\n",
            "Variáveis:\t16\n",
            "\n"
          ],
          "name": "stdout"
        },
        {
          "output_type": "display_data",
          "data": {
            "text/plain": [
              "id                                  int64\n",
              "name                               object\n",
              "host_id                             int64\n",
              "host_name                          object\n",
              "neighbourhood_group               float64\n",
              "neighbourhood                      object\n",
              "latitude                          float64\n",
              "longitude                         float64\n",
              "room_type                          object\n",
              "price                               int64\n",
              "minimum_nights                      int64\n",
              "number_of_reviews                   int64\n",
              "last_review                        object\n",
              "reviews_per_month                 float64\n",
              "calculated_host_listings_count      int64\n",
              "availability_365                    int64\n",
              "dtype: object"
            ]
          },
          "metadata": {
            "tags": []
          }
        }
      ]
    },
    {
      "cell_type": "markdown",
      "metadata": {
        "id": "APIsRAwRjIbE",
        "colab_type": "text"
      },
      "source": [
        "Nesta primeira análise identificamos que o nosso dataset possuí 15352 entradas, 16 variáveis do tipo \"int\" (7), \"float\" (4) e \"object\" (5).\n",
        "\n",
        "Está etapa é importante pois precisamos entender o tipo de variável que estamos trabalhando, em alguns momentos é pertinente converter algumas destas variáveis em números. \n"
      ]
    },
    {
      "cell_type": "markdown",
      "metadata": {
        "id": "yz1urSUGW9iE",
        "colab_type": "text"
      },
      "source": [
        "### **Qual a porcentagem de valores ausentes no *dataset*?**"
      ]
    },
    {
      "cell_type": "markdown",
      "metadata": {
        "id": "n8u3u932CXiR",
        "colab_type": "text"
      },
      "source": [
        "A qualidade de um dataset está diretamente relacionada à quantidade de valores ausentes. É importante entender logo no início se esses valores nulos são significativos comparados ao total de entradas.\n",
        "\n",
        "\n",
        "\n",
        "\n",
        "\n"
      ]
    },
    {
      "cell_type": "code",
      "metadata": {
        "id": "plk2FjbCXOqP",
        "colab_type": "code",
        "outputId": "d6c4ddd7-d990-413c-f036-c5bf87c0bd3a",
        "colab": {
          "base_uri": "https://localhost:8080/",
          "height": 306
        }
      },
      "source": [
        "# ordenar em ordem decrescente as variáveis por seus valores ausentes\n",
        "\n",
        "(df_tokyo.isnull().sum() / df_tokyo.shape[0]).sort_values(ascending=False)"
      ],
      "execution_count": 0,
      "outputs": [
        {
          "output_type": "execute_result",
          "data": {
            "text/plain": [
              "neighbourhood_group               1.000000\n",
              "reviews_per_month                 0.170010\n",
              "last_review                       0.170010\n",
              "host_name                         0.000717\n",
              "availability_365                  0.000000\n",
              "calculated_host_listings_count    0.000000\n",
              "number_of_reviews                 0.000000\n",
              "minimum_nights                    0.000000\n",
              "price                             0.000000\n",
              "room_type                         0.000000\n",
              "longitude                         0.000000\n",
              "latitude                          0.000000\n",
              "neighbourhood                     0.000000\n",
              "host_id                           0.000000\n",
              "name                              0.000000\n",
              "id                                0.000000\n",
              "dtype: float64"
            ]
          },
          "metadata": {
            "tags": []
          },
          "execution_count": 7
        }
      ]
    },
    {
      "cell_type": "markdown",
      "metadata": {
        "id": "Px0yKgtDAa_N",
        "colab_type": "text"
      },
      "source": [
        "\n",
        "*   É possivel observar que a variável *neighbourhood_group* apresenta 100% dos seus valores faltantes.\n",
        "*   As variaveis *reviews_per_month*\" e *last_review*, apresentam a mesma porcetagem de valores faltantes, aproximadamente 17%.\n",
        "*   A variável *host_name* apresentou aproximadamente 0,1% dos valores nulos.\n",
        "\n",
        "Uma parte crítica do sucesso de um projeto de Aprendizado de Máquina é criar um bom conjunto de características para o treinamento. No processo de limpeza de valores faltantes, temos três opções:\n",
        "\n",
        "\n",
        "*   Excluir os valores correspondentes\n",
        "*   Excluir todo o atributo\n",
        "*   Definir valores para algum valor (zero, a média, intermediária, etc.).\n",
        "\n",
        "Sabendo disso neste estudo iremos limpar o nosso *dataset*, excluindo os atributos que não são relevantes e apresentam valores faltantes:\n",
        "\n",
        "* *neighbourhood_group*\n",
        "* *reviews_per_month*\n",
        "* *last_review* e \n",
        "* *host_name*. "
      ]
    },
    {
      "cell_type": "code",
      "metadata": {
        "id": "i4JMkDZuMRuS",
        "colab_type": "code",
        "colab": {}
      },
      "source": [
        "#excluindo colunas\n",
        "\n",
        "df_tokyo = df_tokyo.drop(columns=['neighbourhood_group','reviews_per_month','last_review', 'host_name'])\n"
      ],
      "execution_count": 0,
      "outputs": []
    },
    {
      "cell_type": "markdown",
      "metadata": {
        "id": "DRNt4LFp050k",
        "colab_type": "text"
      },
      "source": [
        "Agora o nosso *dataset* tem variáveis do tipo *float* (2), *int* (7), *object*(3) e nenhum atributo ausente."
      ]
    },
    {
      "cell_type": "markdown",
      "metadata": {
        "id": "iHXvvHIxaoNc",
        "colab_type": "text"
      },
      "source": [
        "### **Qual o tipo de distribuição das variáveis?** "
      ]
    },
    {
      "cell_type": "markdown",
      "metadata": {
        "id": "zfp_u-yKCNxq",
        "colab_type": "text"
      },
      "source": [
        "Outro método rápido de perceber o tipo de dados com o qual você está lidando é traçar um **histograma** para cada atributo numérico. Um histograma mostra o número de instâncias (no eixo *y*) que possuem um determinado intervalo de valores (no eixo *x*).\n",
        "\n",
        "\n",
        "Para a análise do histograma retiramos as variáveis *id*, *host_id*, uma vez que elas não acrescentam nenhuma informação importante.\n"
      ]
    },
    {
      "cell_type": "code",
      "metadata": {
        "id": "q2wWSfeRbmBo",
        "colab_type": "code",
        "outputId": "447e49ad-b42b-4d62-91d9-55bfda672bb0",
        "colab": {
          "base_uri": "https://localhost:8080/",
          "height": 639
        }
      },
      "source": [
        "# histograma das variáveis numéricas\n",
        "\n",
        "fix, ax = plt.subplots(figsize=(12,8))\n",
        "df_tokyo.drop(columns=['id','host_id']).hist(ax=ax)\n",
        "plt.tight_layout()\n"
      ],
      "execution_count": 0,
      "outputs": [
        {
          "output_type": "stream",
          "text": [
            "/usr/local/lib/python3.6/dist-packages/ipykernel_launcher.py:4: UserWarning: To output multiple subplots, the figure containing the passed axes is being cleared\n",
            "  after removing the cwd from sys.path.\n"
          ],
          "name": "stderr"
        },
        {
          "output_type": "display_data",
          "data": {
            "image/png": "[encoded data removed]",
            "text/plain": [
              "<Figure size 864x576 with 9 Axes>"
            ]
          },
          "metadata": {
            "tags": [],
            "needs_background": "light"
          }
        }
      ]
    },
    {
      "cell_type": "markdown",
      "metadata": {
        "id": "Kcy1GssK5Z0K",
        "colab_type": "text"
      },
      "source": [
        "Analisando a distribuição do histograma, é possível verificar que as variáveis *price* e *minimum_nights* não apresentam uma distribuição normal. Este tipo de distribuição é indícios da presença de *outliers*.\n"
      ]
    },
    {
      "cell_type": "markdown",
      "metadata": {
        "id": "RwX5vgW3ZN6G",
        "colab_type": "text"
      },
      "source": [
        "### **Há *outliers* presentes?**"
      ]
    },
    {
      "cell_type": "markdown",
      "metadata": {
        "id": "D8ugSebmdwxL",
        "colab_type": "text"
      },
      "source": [
        "\n",
        "Um *outliers* é qualquer valor que seja muito distante de outros valores em um conjunto de dados. Quando os *outliers* são resultados de dados ruins, a média resultará em uma má estimativa de localização, logo eles devem ser investigados e identificados.\n",
        "\n",
        "Neste estudo os valores das variáveis *price* e *minimum_nights*, não seguem uma distruição, e distorcem a representação gráfica. Para confirmar, há duas maneiras que auxiliam a detecção de *outliers*. São elas:\n",
        "\n",
        "* Resumo estatístico por meio do método describe()\n",
        "* Plotar boxplots para a variável."
      ]
    },
    {
      "cell_type": "code",
      "metadata": {
        "id": "0uVeapRmkCB2",
        "colab_type": "code",
        "outputId": "ef7d14e1-6699-4a3c-bf66-fddc593e26cb",
        "colab": {
          "base_uri": "https://localhost:8080/",
          "height": 297
        }
      },
      "source": [
        "# resumo estatístico das variáveis numéricas\n",
        "\n",
        "df_tokyo[['price', 'minimum_nights', 'number_of_reviews', 'calculated_host_listings_count', 'availability_365', 'latitude', 'longitude']].describe()\n"
      ],
      "execution_count": 0,
      "outputs": [
        {
          "output_type": "execute_result",
          "data": {
            "text/html": [
              "<div>\n",
              "<style scoped>\n",
              "    .dataframe tbody tr th:only-of-type {\n",
              "        vertical-align: middle;\n",
              "    }\n",
              "\n",
              "    .dataframe tbody tr th {\n",
              "        vertical-align: top;\n",
              "    }\n",
              "\n",
              "    .dataframe thead th {\n",
              "        text-align: right;\n",
              "    }\n",
              "</style>\n",
              "<table border=\"1\" class=\"dataframe\">\n",
              "  <thead>\n",
              "    <tr style=\"text-align: right;\">\n",
              "      <th></th>\n",
              "      <th>price</th>\n",
              "      <th>minimum_nights</th>\n",
              "      <th>number_of_reviews</th>\n",
              "      <th>calculated_host_listings_count</th>\n",
              "      <th>availability_365</th>\n",
              "      <th>latitude</th>\n",
              "      <th>longitude</th>\n",
              "    </tr>\n",
              "  </thead>\n",
              "  <tbody>\n",
              "    <tr>\n",
              "      <th>count</th>\n",
              "      <td>1.535200e+04</td>\n",
              "      <td>15352.000000</td>\n",
              "      <td>15352.000000</td>\n",
              "      <td>15352.000000</td>\n",
              "      <td>15352.000000</td>\n",
              "      <td>15352.000000</td>\n",
              "      <td>15352.000000</td>\n",
              "    </tr>\n",
              "    <tr>\n",
              "      <th>mean</th>\n",
              "      <td>2.624158e+04</td>\n",
              "      <td>3.293968</td>\n",
              "      <td>26.542731</td>\n",
              "      <td>13.434732</td>\n",
              "      <td>155.732348</td>\n",
              "      <td>35.694985</td>\n",
              "      <td>139.735174</td>\n",
              "    </tr>\n",
              "    <tr>\n",
              "      <th>std</th>\n",
              "      <td>7.636344e+04</td>\n",
              "      <td>9.114849</td>\n",
              "      <td>40.566386</td>\n",
              "      <td>15.399161</td>\n",
              "      <td>115.567651</td>\n",
              "      <td>0.142427</td>\n",
              "      <td>0.081392</td>\n",
              "    </tr>\n",
              "    <tr>\n",
              "      <th>min</th>\n",
              "      <td>0.000000e+00</td>\n",
              "      <td>1.000000</td>\n",
              "      <td>0.000000</td>\n",
              "      <td>1.000000</td>\n",
              "      <td>0.000000</td>\n",
              "      <td>27.072330</td>\n",
              "      <td>139.123190</td>\n",
              "    </tr>\n",
              "    <tr>\n",
              "      <th>25%</th>\n",
              "      <td>6.952000e+03</td>\n",
              "      <td>1.000000</td>\n",
              "      <td>2.000000</td>\n",
              "      <td>3.000000</td>\n",
              "      <td>63.000000</td>\n",
              "      <td>35.686230</td>\n",
              "      <td>139.699457</td>\n",
              "    </tr>\n",
              "    <tr>\n",
              "      <th>50%</th>\n",
              "      <td>1.197900e+04</td>\n",
              "      <td>1.000000</td>\n",
              "      <td>11.000000</td>\n",
              "      <td>8.000000</td>\n",
              "      <td>150.000000</td>\n",
              "      <td>35.703020</td>\n",
              "      <td>139.728075</td>\n",
              "    </tr>\n",
              "    <tr>\n",
              "      <th>75%</th>\n",
              "      <td>2.000100e+04</td>\n",
              "      <td>2.000000</td>\n",
              "      <td>34.000000</td>\n",
              "      <td>18.000000</td>\n",
              "      <td>247.000000</td>\n",
              "      <td>35.725082</td>\n",
              "      <td>139.785050</td>\n",
              "    </tr>\n",
              "    <tr>\n",
              "      <th>max</th>\n",
              "      <td>1.000053e+06</td>\n",
              "      <td>365.000000</td>\n",
              "      <td>529.000000</td>\n",
              "      <td>98.000000</td>\n",
              "      <td>365.000000</td>\n",
              "      <td>35.832430</td>\n",
              "      <td>142.202880</td>\n",
              "    </tr>\n",
              "  </tbody>\n",
              "</table>\n",
              "</div>"
            ],
            "text/plain": [
              "              price  minimum_nights  ...      latitude     longitude\n",
              "count  1.535200e+04    15352.000000  ...  15352.000000  15352.000000\n",
              "mean   2.624158e+04        3.293968  ...     35.694985    139.735174\n",
              "std    7.636344e+04        9.114849  ...      0.142427      0.081392\n",
              "min    0.000000e+00        1.000000  ...     27.072330    139.123190\n",
              "25%    6.952000e+03        1.000000  ...     35.686230    139.699457\n",
              "50%    1.197900e+04        1.000000  ...     35.703020    139.728075\n",
              "75%    2.000100e+04        2.000000  ...     35.725082    139.785050\n",
              "max    1.000053e+06      365.000000  ...     35.832430    142.202880\n",
              "\n",
              "[8 rows x 7 columns]"
            ]
          },
          "metadata": {
            "tags": []
          },
          "execution_count": 10
        }
      ]
    },
    {
      "cell_type": "markdown",
      "metadata": {
        "id": "4nlfm_yZsqsH",
        "colab_type": "text"
      },
      "source": [
        "Olhando o resumo estatístico acima, podemos confirmar algumas hipóteses como:\n",
        "\n",
        "* A variável **price** possui 75% do valor abaixo de 2.000100e+04, porém seu valor máximo é 1.000053e+06.\n",
        "\n",
        "* A quantidade mínima de noites (**minimum_nights**) possui 75% do valor abaixo de 2 noites, porem seu valor máximo é de 365 dias no ano.\n",
        "\n",
        "O resumo estatístico sugere a presença de *outliers* nas variáveis **price** e **minimum_nights** corroborando com os dados do histograma.\n"
      ]
    },
    {
      "cell_type": "markdown",
      "metadata": {
        "id": "xMClNAR35vKi",
        "colab_type": "text"
      },
      "source": [
        "\n",
        "### Boxplot para minimum_nights\n",
        "\n",
        "Os boxplots, apresentados por *Tukey* (*Tukey, 1977*), são baseados em percentis e são um modo rápido de visualizar a distribuição dos dados.\n",
        "\n",
        "Explicando o gráfico: As partes superior e inferior da caixa são o 75% e o 25% percentis, respectivamente. A mediana é mostrada pela linha horizontal na caixa. As linhas pontilhadas, são chamadas de *whiskers*, se estendem do topo e da base para indicar a variação da massa de dados.\n"
      ]
    },
    {
      "cell_type": "code",
      "metadata": {
        "id": "HH6MaMiMskAw",
        "colab_type": "code",
        "outputId": "746314c5-1823-42e9-b736-f6850c37b3ed",
        "colab": {
          "base_uri": "https://localhost:8080/",
          "height": 208
        }
      },
      "source": [
        "# minimum_nights\n",
        "\n",
        "df_tokyo.minimum_nights.plot(kind='box', vert=False, figsize=(15,2))\n",
        "plt.show()\n",
        "\n",
        "#quantidade de valores acima de 30 dias para minimum_nights\n",
        "\n",
        "print(\"minimum_nights: valores acima de 30:\")\n",
        "print(\"{} entradas\".format(len(df_tokyo[df_tokyo.minimum_nights >30])))\n",
        "print(\"{:.4f}%\".format((len(df_tokyo[df_tokyo.minimum_nights > 30])/df_tokyo.shape[0])*100))"
      ],
      "execution_count": 0,
      "outputs": [
        {
          "output_type": "display_data",
          "data": {
            "image/png": "[encoded data removed]",
            "text/plain": [
              "<Figure size 1080x144 with 1 Axes>"
            ]
          },
          "metadata": {
            "tags": [],
            "needs_background": "light"
          }
        },
        {
          "output_type": "stream",
          "text": [
            "minimum_nights: valores acima de 30:\n",
            "45 entradas\n",
            "0.2931%\n"
          ],
          "name": "stdout"
        }
      ]
    },
    {
      "cell_type": "markdown",
      "metadata": {
        "id": "af3EfKqMS9tq",
        "colab_type": "text"
      },
      "source": [
        "Podemos observar que exitem 45 entradas acima de 30 dias representando 0,2% de todas as entradas."
      ]
    },
    {
      "cell_type": "markdown",
      "metadata": {
        "id": "DZnZS5hQ2XUJ",
        "colab_type": "text"
      },
      "source": [
        "### Boxplot para price\n"
      ]
    },
    {
      "cell_type": "code",
      "metadata": {
        "id": "jPcmZLwP2YBZ",
        "colab_type": "code",
        "outputId": "b51ef8a2-1926-4e14-ce33-48cf9b514541",
        "colab": {
          "base_uri": "https://localhost:8080/",
          "height": 221
        }
      },
      "source": [
        "# price\n",
        "\n",
        "df_tokyo.price.plot(kind='box', vert=False, figsize=(15,2))\n",
        "plt.show()\n",
        "\n",
        "\n",
        "## ver quantidade de valores acima de 10.000100e+04 para price\n",
        "print(\"nprice: valores acima de 5.000100e+04:\")\n",
        "print(\"{} entradas\".format(len(df_tokyo[df_tokyo.price > 10.000100e+04])))\n",
        "print(\"{:.4f}%\".format((len(df_tokyo[df_tokyo.price > 10.000100e+04])/df_tokyo.shape[0])*100))"
      ],
      "execution_count": 0,
      "outputs": [
        {
          "output_type": "display_data",
          "data": {
            "image/png": "[encoded data removed]",
            "text/plain": [
              "<Figure size 1080x144 with 1 Axes>"
            ]
          },
          "metadata": {
            "tags": [],
            "needs_background": "light"
          }
        },
        {
          "output_type": "stream",
          "text": [
            "nprice: valores acima de 5.000100e+04:\n",
            "556 entradas\n",
            "3.6217%\n"
          ],
          "name": "stdout"
        }
      ]
    },
    {
      "cell_type": "markdown",
      "metadata": {
        "id": "A72mf8Hw6DPA",
        "colab_type": "text"
      },
      "source": [
        "Podemos observar que exitem 556 entradas acima de 5.000100e+04 representando 3,6% de todas as entradas."
      ]
    },
    {
      "cell_type": "markdown",
      "metadata": {
        "id": "BcMGG-FK6UOF",
        "colab_type": "text"
      },
      "source": [
        "## Histogramas sem *outliers*\n",
        "\n",
        "Já que identificamos *outliers* nas variáveis **price** e **minimum_nights**, vamos agora limpar o DataFrame e plotar novamente o histograma."
      ]
    },
    {
      "cell_type": "code",
      "metadata": {
        "id": "Q1Xr1wQF6ZRa",
        "colab_type": "code",
        "outputId": "52d7c962-81db-48d7-d96e-9a3022685b4d",
        "colab": {
          "base_uri": "https://localhost:8080/",
          "height": 639
        }
      },
      "source": [
        "# remover os *outliers* em um novo DataFrame\n",
        "\n",
        "df_clean = df_tokyo.copy()\n",
        "df_clean.drop(df_clean[df_clean.price > 10.000100e+04].index, axis=0, inplace=True)\n",
        "df_clean.drop(df_clean[df_clean.minimum_nights > 30].index, axis=0, inplace=True)\n",
        "\n",
        "# histograma para as variáveis numericas apos limpeza dos *outliers*\n",
        "\n",
        "fix, ax = plt.subplots(figsize=(12,8))\n",
        "df_clean.drop(columns=['id','host_id']).hist(ax=ax)\n",
        "plt.tight_layout()\n"
      ],
      "execution_count": 0,
      "outputs": [
        {
          "output_type": "stream",
          "text": [
            "/usr/local/lib/python3.6/dist-packages/ipykernel_launcher.py:10: UserWarning: To output multiple subplots, the figure containing the passed axes is being cleared\n",
            "  # Remove the CWD from sys.path while we load stuff.\n"
          ],
          "name": "stderr"
        },
        {
          "output_type": "display_data",
          "data": {
            "image/png": "[encoded data removed]",
            "text/plain": [
              "<Figure size 864x576 with 9 Axes>"
            ]
          },
          "metadata": {
            "tags": [],
            "needs_background": "light"
          }
        }
      ]
    },
    {
      "cell_type": "markdown",
      "metadata": {
        "id": "Bc95Q-H_6RhL",
        "colab_type": "text"
      },
      "source": [
        "Veja como as variáveis **price** e **minimum_nights** agora estão apresentando uma distribuição e um deslocando para a esquerda do gráfico."
      ]
    },
    {
      "cell_type": "code",
      "metadata": {
        "id": "k5OBcVFLSD6K",
        "colab_type": "code",
        "outputId": "cacfe856-fdbb-4127-d15d-4b4e24da9305",
        "colab": {
          "base_uri": "https://localhost:8080/",
          "height": 297
        }
      },
      "source": [
        "df_clean[['price', 'minimum_nights', 'number_of_reviews', 'calculated_host_listings_count', 'availability_365', 'latitude', 'longitude']].describe()"
      ],
      "execution_count": 0,
      "outputs": [
        {
          "output_type": "execute_result",
          "data": {
            "text/html": [
              "<div>\n",
              "<style scoped>\n",
              "    .dataframe tbody tr th:only-of-type {\n",
              "        vertical-align: middle;\n",
              "    }\n",
              "\n",
              "    .dataframe tbody tr th {\n",
              "        vertical-align: top;\n",
              "    }\n",
              "\n",
              "    .dataframe thead th {\n",
              "        text-align: right;\n",
              "    }\n",
              "</style>\n",
              "<table border=\"1\" class=\"dataframe\">\n",
              "  <thead>\n",
              "    <tr style=\"text-align: right;\">\n",
              "      <th></th>\n",
              "      <th>price</th>\n",
              "      <th>minimum_nights</th>\n",
              "      <th>number_of_reviews</th>\n",
              "      <th>calculated_host_listings_count</th>\n",
              "      <th>availability_365</th>\n",
              "      <th>latitude</th>\n",
              "      <th>longitude</th>\n",
              "    </tr>\n",
              "  </thead>\n",
              "  <tbody>\n",
              "    <tr>\n",
              "      <th>count</th>\n",
              "      <td>14751.000000</td>\n",
              "      <td>14751.000000</td>\n",
              "      <td>14751.000000</td>\n",
              "      <td>14751.000000</td>\n",
              "      <td>14751.000000</td>\n",
              "      <td>14751.000000</td>\n",
              "      <td>14751.000000</td>\n",
              "    </tr>\n",
              "    <tr>\n",
              "      <th>mean</th>\n",
              "      <td>16699.357535</td>\n",
              "      <td>3.141685</td>\n",
              "      <td>26.951664</td>\n",
              "      <td>12.782930</td>\n",
              "      <td>153.805708</td>\n",
              "      <td>35.695208</td>\n",
              "      <td>139.734882</td>\n",
              "    </tr>\n",
              "    <tr>\n",
              "      <th>std</th>\n",
              "      <td>17176.587067</td>\n",
              "      <td>6.453862</td>\n",
              "      <td>41.106143</td>\n",
              "      <td>14.440271</td>\n",
              "      <td>113.856424</td>\n",
              "      <td>0.145076</td>\n",
              "      <td>0.081036</td>\n",
              "    </tr>\n",
              "    <tr>\n",
              "      <th>min</th>\n",
              "      <td>0.000000</td>\n",
              "      <td>1.000000</td>\n",
              "      <td>0.000000</td>\n",
              "      <td>1.000000</td>\n",
              "      <td>0.000000</td>\n",
              "      <td>27.072330</td>\n",
              "      <td>139.123190</td>\n",
              "    </tr>\n",
              "    <tr>\n",
              "      <th>25%</th>\n",
              "      <td>6952.000000</td>\n",
              "      <td>1.000000</td>\n",
              "      <td>2.000000</td>\n",
              "      <td>3.000000</td>\n",
              "      <td>63.000000</td>\n",
              "      <td>35.687665</td>\n",
              "      <td>139.699030</td>\n",
              "    </tr>\n",
              "    <tr>\n",
              "      <th>50%</th>\n",
              "      <td>11048.000000</td>\n",
              "      <td>1.000000</td>\n",
              "      <td>11.000000</td>\n",
              "      <td>8.000000</td>\n",
              "      <td>148.000000</td>\n",
              "      <td>35.703270</td>\n",
              "      <td>139.727210</td>\n",
              "    </tr>\n",
              "    <tr>\n",
              "      <th>75%</th>\n",
              "      <td>19951.000000</td>\n",
              "      <td>2.000000</td>\n",
              "      <td>35.000000</td>\n",
              "      <td>17.000000</td>\n",
              "      <td>245.000000</td>\n",
              "      <td>35.725170</td>\n",
              "      <td>139.785740</td>\n",
              "    </tr>\n",
              "    <tr>\n",
              "      <th>max</th>\n",
              "      <td>99984.000000</td>\n",
              "      <td>30.000000</td>\n",
              "      <td>529.000000</td>\n",
              "      <td>98.000000</td>\n",
              "      <td>365.000000</td>\n",
              "      <td>35.832430</td>\n",
              "      <td>142.202880</td>\n",
              "    </tr>\n",
              "  </tbody>\n",
              "</table>\n",
              "</div>"
            ],
            "text/plain": [
              "              price  minimum_nights  ...      latitude     longitude\n",
              "count  14751.000000    14751.000000  ...  14751.000000  14751.000000\n",
              "mean   16699.357535        3.141685  ...     35.695208    139.734882\n",
              "std    17176.587067        6.453862  ...      0.145076      0.081036\n",
              "min        0.000000        1.000000  ...     27.072330    139.123190\n",
              "25%     6952.000000        1.000000  ...     35.687665    139.699030\n",
              "50%    11048.000000        1.000000  ...     35.703270    139.727210\n",
              "75%    19951.000000        2.000000  ...     35.725170    139.785740\n",
              "max    99984.000000       30.000000  ...     35.832430    142.202880\n",
              "\n",
              "[8 rows x 7 columns]"
            ]
          },
          "metadata": {
            "tags": []
          },
          "execution_count": 20
        }
      ]
    },
    {
      "cell_type": "markdown",
      "metadata": {
        "id": "gsxBXIGiUt3n",
        "colab_type": "text"
      },
      "source": [
        "Após a correção dos *outliers* observe que o desvio padrão das variáveis **price** e **minimum_nights** diminuiram ou seja os dados agora estão menos dispersos em torno do valor central, comparado a primeira análise."
      ]
    },
    {
      "cell_type": "markdown",
      "metadata": {
        "id": "IXn2oIo5qx-w",
        "colab_type": "text"
      },
      "source": [
        "### **Qual a correlação existente entre as variáveis**\n",
        "\n",
        "Aqui vamos entrar no estudo da correlação entre preditores, e entre preditores e uma variável-alvo. Correlação significa que existe uma relação entre duas coisas. Neste contexto, estamos buscando relação ou semelhança entre duas variáveis.\n",
        "\n",
        "Vamos observar:\n",
        "\n",
        "* Coeficiente de correlação (também chamdo de *r* de *pearson*): uma métrica que mede o nível em que as variáveis estão associadas umas às outras (varia de -1 a +1). \n",
        "* A matrix de correlação: uma tabela na qual as variáveis são mostradas tanto nas linhas quanto nas colunas, e os valores das células são a correlação entre as variáveis.\n",
        "* Diagrama de dispersão: um gráfico no qual o eixo *X* é o valor de uma variável, e o eixo *Y* é o valor de outra.\n"
      ]
    },
    {
      "cell_type": "code",
      "metadata": {
        "id": "x2ayzBajqxyd",
        "colab_type": "code",
        "outputId": "180dec43-b623-4ca8-e5ee-80af244d290b",
        "colab": {
          "base_uri": "https://localhost:8080/",
          "height": 878
        }
      },
      "source": [
        "# criar uma matriz de correlação\n",
        "\n",
        "corr = df_clean[['price', 'minimum_nights', 'number_of_reviews', 'calculated_host_listings_count', 'availability_365', 'latitude', 'longitude']].corr()\n",
        "\n",
        "# mostrar a matriz de correlação\n",
        "\n",
        "display(corr)\n",
        "\n",
        "# plotar um heatmap a partir das correlações\n",
        "\n",
        "plt.figure(figsize=(8, 8))\n",
        "sns.heatmap(corr,annot=True, vmin=-1, vmax=1,center= 0, cmap='RdBu', fmt='.2f')  #plotando a matriz de correlação com o seaborn\n",
        "plt.show()\n"
      ],
      "execution_count": 0,
      "outputs": [
        {
          "output_type": "display_data",
          "data": {
            "text/html": [
              "<div>\n",
              "<style scoped>\n",
              "    .dataframe tbody tr th:only-of-type {\n",
              "        vertical-align: middle;\n",
              "    }\n",
              "\n",
              "    .dataframe tbody tr th {\n",
              "        vertical-align: top;\n",
              "    }\n",
              "\n",
              "    .dataframe thead th {\n",
              "        text-align: right;\n",
              "    }\n",
              "</style>\n",
              "<table border=\"1\" class=\"dataframe\">\n",
              "  <thead>\n",
              "    <tr style=\"text-align: right;\">\n",
              "      <th></th>\n",
              "      <th>price</th>\n",
              "      <th>minimum_nights</th>\n",
              "      <th>number_of_reviews</th>\n",
              "      <th>calculated_host_listings_count</th>\n",
              "      <th>availability_365</th>\n",
              "      <th>latitude</th>\n",
              "      <th>longitude</th>\n",
              "    </tr>\n",
              "  </thead>\n",
              "  <tbody>\n",
              "    <tr>\n",
              "      <th>price</th>\n",
              "      <td>1.000000</td>\n",
              "      <td>-0.033926</td>\n",
              "      <td>-0.052773</td>\n",
              "      <td>0.074595</td>\n",
              "      <td>0.122575</td>\n",
              "      <td>0.011891</td>\n",
              "      <td>0.057074</td>\n",
              "    </tr>\n",
              "    <tr>\n",
              "      <th>minimum_nights</th>\n",
              "      <td>-0.033926</td>\n",
              "      <td>1.000000</td>\n",
              "      <td>-0.033909</td>\n",
              "      <td>0.059596</td>\n",
              "      <td>0.067767</td>\n",
              "      <td>0.008024</td>\n",
              "      <td>-0.041661</td>\n",
              "    </tr>\n",
              "    <tr>\n",
              "      <th>number_of_reviews</th>\n",
              "      <td>-0.052773</td>\n",
              "      <td>-0.033909</td>\n",
              "      <td>1.000000</td>\n",
              "      <td>-0.167410</td>\n",
              "      <td>0.019889</td>\n",
              "      <td>-0.004012</td>\n",
              "      <td>-0.045654</td>\n",
              "    </tr>\n",
              "    <tr>\n",
              "      <th>calculated_host_listings_count</th>\n",
              "      <td>0.074595</td>\n",
              "      <td>0.059596</td>\n",
              "      <td>-0.167410</td>\n",
              "      <td>1.000000</td>\n",
              "      <td>0.035458</td>\n",
              "      <td>0.034351</td>\n",
              "      <td>0.066967</td>\n",
              "    </tr>\n",
              "    <tr>\n",
              "      <th>availability_365</th>\n",
              "      <td>0.122575</td>\n",
              "      <td>0.067767</td>\n",
              "      <td>0.019889</td>\n",
              "      <td>0.035458</td>\n",
              "      <td>1.000000</td>\n",
              "      <td>-0.022268</td>\n",
              "      <td>0.023304</td>\n",
              "    </tr>\n",
              "    <tr>\n",
              "      <th>latitude</th>\n",
              "      <td>0.011891</td>\n",
              "      <td>0.008024</td>\n",
              "      <td>-0.004012</td>\n",
              "      <td>0.034351</td>\n",
              "      <td>-0.022268</td>\n",
              "      <td>1.000000</td>\n",
              "      <td>-0.275997</td>\n",
              "    </tr>\n",
              "    <tr>\n",
              "      <th>longitude</th>\n",
              "      <td>0.057074</td>\n",
              "      <td>-0.041661</td>\n",
              "      <td>-0.045654</td>\n",
              "      <td>0.066967</td>\n",
              "      <td>0.023304</td>\n",
              "      <td>-0.275997</td>\n",
              "      <td>1.000000</td>\n",
              "    </tr>\n",
              "  </tbody>\n",
              "</table>\n",
              "</div>"
            ],
            "text/plain": [
              "                                   price  minimum_nights  ...  latitude  longitude\n",
              "price                           1.000000       -0.033926  ...  0.011891   0.057074\n",
              "minimum_nights                 -0.033926        1.000000  ...  0.008024  -0.041661\n",
              "number_of_reviews              -0.052773       -0.033909  ... -0.004012  -0.045654\n",
              "calculated_host_listings_count  0.074595        0.059596  ...  0.034351   0.066967\n",
              "availability_365                0.122575        0.067767  ... -0.022268   0.023304\n",
              "latitude                        0.011891        0.008024  ...  1.000000  -0.275997\n",
              "longitude                       0.057074       -0.041661  ... -0.275997   1.000000\n",
              "\n",
              "[7 rows x 7 columns]"
            ]
          },
          "metadata": {
            "tags": []
          }
        },
        {
          "output_type": "display_data",
          "data": {
            "image/png": "[encoded data removed]",
            "text/plain": [
              "<Figure size 576x576 with 2 Axes>"
            ]
          },
          "metadata": {
            "tags": [],
            "needs_background": "light"
          }
        }
      ]
    },
    {
      "cell_type": "markdown",
      "metadata": {
        "id": "bM5K0DonWzJJ",
        "colab_type": "text"
      },
      "source": [
        "Neste *dataset* não observamos correlações relevantes para o desenvolvimento deste projeto. Mas se observarem existe uma correlação entre o **number_of_reviews** e **calculated_host_listings_count**, o que faz sentindo."
      ]
    },
    {
      "cell_type": "markdown",
      "metadata": {
        "id": "7x4aw1j5wNmn",
        "colab_type": "text"
      },
      "source": [
        "### **Qual a média e mediana dos preços de aluguel?**\n",
        "\n",
        "Variáveis com dados de medição ou contagem podem ter milhares de valores diferentes. Um passo fundamental na exploração de dados é definir um \"*valor tipico*\" para cada  variável (característica) em estudo: uma estimativa de onde a maioria dos dados está localizada (ou seja, sua tendência central). \n",
        "\n",
        "Comparada à média, que usa todas as observações, mediana depende apenas dos valores no centro dos dados classificados. Ainda que isso pareça uma desvantagem, já que a média é muito mais sensível aos dados, é importânte entendermos que existem muitos casos nos quais a mediana é uma métrica melhor para localização. \n",
        "\n",
        "A mediana é conhecida também como uma estimativa *robusta* de localização, pois não é influenciada por *outliers* (casos extremos), que podem enviesar os resultados. "
      ]
    },
    {
      "cell_type": "code",
      "metadata": {
        "id": "ff-8gUahLk-C",
        "colab_type": "code",
        "outputId": "1883d1b7-c008-44f9-8446-dc03f8c45ec9",
        "colab": {
          "base_uri": "https://localhost:8080/",
          "height": 51
        }
      },
      "source": [
        "# ver a média da coluna price\n",
        "\n",
        "print(df_clean['price'].mean())\n",
        "\n",
        "#ver a mediana da coluna price\n",
        "\n",
        "print(df_clean['price'].median())"
      ],
      "execution_count": 0,
      "outputs": [
        {
          "output_type": "stream",
          "text": [
            "16699.357535082367\n",
            "11048.0\n"
          ],
          "name": "stdout"
        }
      ]
    },
    {
      "cell_type": "markdown",
      "metadata": {
        "id": "jKLbQ0wgBgVs",
        "colab_type": "text"
      },
      "source": [
        "O valor médio de aluguel em Tokyo no *Airbnb* é de 16699 iene, em reais isso equivale a mais ou menos R$ 770,00*. Já a mediana é de 11048 iene.\n",
        "\n",
        "*Cotação do dia 08/06/2020"
      ]
    },
    {
      "cell_type": "markdown",
      "metadata": {
        "id": "vTneAMRUYvr1",
        "colab_type": "text"
      },
      "source": [
        "### **Qual é a média do mínimo de noites para aluguel (minimum_nights)?**"
      ]
    },
    {
      "cell_type": "code",
      "metadata": {
        "id": "_VzNhrEgY82N",
        "colab_type": "code",
        "outputId": "44a5e74e-45b7-419a-cb14-abf7a0af6359",
        "colab": {
          "base_uri": "https://localhost:8080/",
          "height": 51
        }
      },
      "source": [
        "# ver a média da coluna minimum_nights\n",
        "\n",
        "print(df_clean['minimum_nights'].mean())\n",
        "\n",
        "# Mediana \n",
        "\n",
        "print(df_clean['minimum_nights'].median())\n"
      ],
      "execution_count": 0,
      "outputs": [
        {
          "output_type": "stream",
          "text": [
            "3.1416853094705446\n",
            "1.0\n"
          ],
          "name": "stdout"
        }
      ]
    },
    {
      "cell_type": "markdown",
      "metadata": {
        "id": "gyYjCkNra2cQ",
        "colab_type": "text"
      },
      "source": [
        "A média do mínimo de noites em Tokyo é de três noites, é interessante observar que a mediana é de 1 noite, aqui ela estar consideando o grupo que fica 28 noites como *outliers*. "
      ]
    },
    {
      "cell_type": "markdown",
      "metadata": {
        "id": "7b6RMWpuHKN-",
        "colab_type": "text"
      },
      "source": [
        "### **Qual o tipo de imóvel mais alugado no Airbnb?**\n",
        "\n",
        "A coluna da variável *room_type* indica o tipo de locação que está anunciada no *Airbnb*. Se você já alugou no site, sabe que existem opções de apartamentos/casas inteiras, apenas o aluguel de um quarto ou mesmo dividir o quarto com outras pessoas.\n",
        "\n",
        "Vamos contar a quantidade de ocorrências de cada tipo de aluguel, usando o método *value_counts()*."
      ]
    },
    {
      "cell_type": "code",
      "metadata": {
        "id": "ueLPNWvPHgfB",
        "colab_type": "code",
        "outputId": "f16d4f43-e1e7-4668-caa3-195d9388c2b0",
        "colab": {
          "base_uri": "https://localhost:8080/",
          "height": 102
        }
      },
      "source": [
        "# quantidade de cada tipo de imóvel disponível\n",
        "\n",
        "df_clean.room_type.value_counts()\n"
      ],
      "execution_count": 0,
      "outputs": [
        {
          "output_type": "execute_result",
          "data": {
            "text/plain": [
              "Entire home/apt    9317\n",
              "Private room       3122\n",
              "Shared room         714\n",
              "Hotel room          688\n",
              "Name: room_type, dtype: int64"
            ]
          },
          "metadata": {
            "tags": []
          },
          "execution_count": 34
        }
      ]
    },
    {
      "cell_type": "code",
      "metadata": {
        "id": "KFMiOmEfkE74",
        "colab_type": "code",
        "outputId": "b8900b96-5477-4f8a-ea62-e8ddeac66927",
        "colab": {
          "base_uri": "https://localhost:8080/",
          "height": 350
        }
      },
      "source": [
        "# gráfico de cada tipo de imóvel disponível \n",
        "\n",
        "sns.countplot(df_clean.room_type)\n",
        "plt.xticks(rotation=90);"
      ],
      "execution_count": 0,
      "outputs": [
        {
          "output_type": "display_data",
          "data": {
            "image/png": "[encoded data removed]",
            "text/plain": [
              "<Figure size 432x288 with 1 Axes>"
            ]
          },
          "metadata": {
            "tags": [],
            "needs_background": "light"
          }
        }
      ]
    },
    {
      "cell_type": "code",
      "metadata": {
        "id": "mCY4LmbfERGp",
        "colab_type": "code",
        "outputId": "7b235281-2bba-4cfc-8788-0a39d45e1ee8",
        "colab": {
          "base_uri": "https://localhost:8080/",
          "height": 102
        }
      },
      "source": [
        "# porcentagem de cada tipo de imóvel disponível\n",
        "df_clean.room_type.value_counts() / df_clean.shape[0]"
      ],
      "execution_count": 0,
      "outputs": [
        {
          "output_type": "execute_result",
          "data": {
            "text/plain": [
              "Entire home/apt    0.673145\n",
              "Private room       0.225562\n",
              "Shared room        0.051586\n",
              "Hotel room         0.049707\n",
              "Name: room_type, dtype: float64"
            ]
          },
          "metadata": {
            "tags": []
          },
          "execution_count": 45
        }
      ]
    },
    {
      "cell_type": "markdown",
      "metadata": {
        "id": "-L5bhEXx028Y",
        "colab_type": "text"
      },
      "source": [
        "Como podemos observar em Tokyo a maior disponibilidade (67%) dos imóveis são do tipo apartamentos/casas inteiras."
      ]
    },
    {
      "cell_type": "code",
      "metadata": {
        "id": "b7Rz2x8BivUO",
        "colab_type": "code",
        "outputId": "17106d34-2b1d-4f59-dc0b-ac716d438a18",
        "colab": {
          "base_uri": "https://localhost:8080/",
          "height": 119
        }
      },
      "source": [
        "# ver preços por tipo de imóvel, na média\n",
        "\n",
        "df_clean.groupby(['room_type']).price.mean().sort_values(ascending=False)[:10]"
      ],
      "execution_count": 0,
      "outputs": [
        {
          "output_type": "execute_result",
          "data": {
            "text/plain": [
              "room_type\n",
              "Entire home/apt    19552.470108\n",
              "Hotel room         17764.337209\n",
              "Private room       11099.345932\n",
              "Shared room         6035.344538\n",
              "Name: price, dtype: float64"
            ]
          },
          "metadata": {
            "tags": []
          },
          "execution_count": 37
        }
      ]
    },
    {
      "cell_type": "code",
      "metadata": {
        "id": "B5E2f-8tyKrN",
        "colab_type": "code",
        "outputId": "17312801-17c4-48f3-911d-c5b17ef6547c",
        "colab": {
          "base_uri": "https://localhost:8080/",
          "height": 280
        }
      },
      "source": [
        "# gráfico preço por tipo de imóvel\n",
        "\n",
        "df_clean.plot(kind=\"scatter\", x=\"room_type\", y=\"price\",\n",
        "             alpha=0.1);\n",
        "            "
      ],
      "execution_count": 0,
      "outputs": [
        {
          "output_type": "display_data",
          "data": {
            "image/png": "[encoded data removed]",
            "text/plain": [
              "<Figure size 432x288 with 1 Axes>"
            ]
          },
          "metadata": {
            "tags": [],
            "needs_background": "light"
          }
        }
      ]
    },
    {
      "cell_type": "markdown",
      "metadata": {
        "id": "0Rt1c4YihFqn",
        "colab_type": "text"
      },
      "source": [
        "Os apartamentos/casas inteiras apresentam uma média de preço um pouco maior que os demais tipos. Os quartos compartilhados é opção mais em conta, comparado aos demais.\n"
      ]
    },
    {
      "cell_type": "code",
      "metadata": {
        "id": "Y5rnCYfnsiZs",
        "colab_type": "code",
        "outputId": "92c75a66-e0e5-42e6-ac63-0bea23c2228b",
        "colab": {
          "base_uri": "https://localhost:8080/",
          "height": 119
        }
      },
      "source": [
        "# número de noites por tipo de imóvel, na média\n",
        "\n",
        "df_clean.groupby(['room_type']).minimum_nights.mean().sort_values(ascending=False)[:10]"
      ],
      "execution_count": 0,
      "outputs": [
        {
          "output_type": "execute_result",
          "data": {
            "text/plain": [
              "room_type\n",
              "Entire home/apt    3.360196\n",
              "Private room       2.882228\n",
              "Hotel room         2.879240\n",
              "Shared room        1.573407\n",
              "Name: minimum_nights, dtype: float64"
            ]
          },
          "metadata": {
            "tags": []
          },
          "execution_count": 50
        }
      ]
    },
    {
      "cell_type": "code",
      "metadata": {
        "id": "oL5UD_fnzcK9",
        "colab_type": "code",
        "outputId": "5c70bbf4-9b77-421d-e391-a1214dc4b00e",
        "colab": {
          "base_uri": "https://localhost:8080/",
          "height": 280
        }
      },
      "source": [
        "# gráfico número de noites por tipo de imóvel\n",
        "\n",
        "df_clean.plot(kind=\"scatter\", x=\"room_type\", y=\"minimum_nights\",\n",
        "             alpha=0.1);"
      ],
      "execution_count": 0,
      "outputs": [
        {
          "output_type": "display_data",
          "data": {
            "image/png": "[encoded data removed]",
            "text/plain": [
              "<Figure size 432x288 with 1 Axes>"
            ]
          },
          "metadata": {
            "tags": [],
            "needs_background": "light"
          }
        }
      ]
    },
    {
      "cell_type": "markdown",
      "metadata": {
        "id": "wXbw9enz0USA",
        "colab_type": "text"
      },
      "source": [
        "Quando avaliamos o tempo de permanencia dos cliente que optaram por imóveis do tipo apartamentos/casas inteiras, observamos que é basicamente o mesmo quando comparado com o imóveis do tipo quarto privado mesmo ele sendo mais barato, a média não é maior.\n",
        "\n",
        "Com estes dados podemos sugerir que os clientes que se hospedam em Tokyo tem preferência por uma estadia em um imóvel com maior privacidade, mesmo ele sendo um pouco mais caro. "
      ]
    },
    {
      "cell_type": "markdown",
      "metadata": {
        "id": "MFa5NbnLJMcd",
        "colab_type": "text"
      },
      "source": [
        "### **As 10 localidade mais cara e mai barata de Tokyo?**\n",
        "\n"
      ]
    },
    {
      "cell_type": "code",
      "metadata": {
        "id": "MD_xa143JZpi",
        "colab_type": "code",
        "outputId": "f1b4377d-0682-432f-e144-56ae375c5144",
        "colab": {
          "base_uri": "https://localhost:8080/",
          "height": 221
        }
      },
      "source": [
        "# preços por bairros, na média\n",
        "\n",
        "df_clean.groupby(['neighbourhood']).price.mean().sort_values(ascending=False)[:10]"
      ],
      "execution_count": 0,
      "outputs": [
        {
          "output_type": "execute_result",
          "data": {
            "text/plain": [
              "neighbourhood\n",
              "Bunkyo Ku        23794.438503\n",
              "Taito Ku         20262.505780\n",
              "Shinjuku Ku      18924.676460\n",
              "Hinohara Mura    18396.600000\n",
              "Shibuya Ku       18394.085768\n",
              "Shinagawa Ku     18022.709804\n",
              "Minato Ku        17915.231729\n",
              "Sumida Ku        17838.176651\n",
              "Chuo Ku          16658.686937\n",
              "Chiyoda Ku       16305.328829\n",
              "Name: price, dtype: float64"
            ]
          },
          "metadata": {
            "tags": []
          },
          "execution_count": 41
        }
      ]
    },
    {
      "cell_type": "markdown",
      "metadata": {
        "id": "WkdCoawPcj53",
        "colab_type": "text"
      },
      "source": [
        "O bairro que apresenta o aluguel mais caro é o **Bunkyo Ku** é uma região especial da Metrópole de Tokyo, no Japão. Bunkyo é a sede do **Tokyo Dome**, um estádio famoso pelos jogos de beisebol dos *Yomiuri Giants* e shows de grandes nomes. Ele está rodeado por um complexo de entretenimento com lojas, restaurantes, parques de aventuras e o Japanese Baseball Hall of Fame. As áreas verdes próximas incluem o *Jardim Botânico Koishikawa* e o *Santuário Nezu*, do século 18, com seu festival de azaleias na primavera."
      ]
    },
    {
      "cell_type": "code",
      "metadata": {
        "id": "Bb5cHuN2ZL_n",
        "colab_type": "code",
        "outputId": "a510e3d8-53e4-408d-a9e0-d1270c1cf9c3",
        "colab": {
          "base_uri": "https://localhost:8080/",
          "height": 221
        }
      },
      "source": [
        "# preços por bairros, na média\n",
        "\n",
        "df_clean.groupby(['neighbourhood']).price.mean().sort_values(ascending=True)[:10]"
      ],
      "execution_count": 0,
      "outputs": [
        {
          "output_type": "execute_result",
          "data": {
            "text/plain": [
              "neighbourhood\n",
              "Inagi Shi              1764.500000\n",
              "Musashimurayama Shi    2959.333333\n",
              "Higashiyamato Shi      2995.000000\n",
              "Kunitachi Shi          3583.000000\n",
              "Fussa Shi              3701.000000\n",
              "Higashikurume Shi      3818.666667\n",
              "Akishima Shi           3850.000000\n",
              "Kokubunji Shi          4903.461538\n",
              "Machida Shi            5331.297297\n",
              "Hino Shi               5395.160000\n",
              "Name: price, dtype: float64"
            ]
          },
          "metadata": {
            "tags": []
          },
          "execution_count": 61
        }
      ]
    },
    {
      "cell_type": "markdown",
      "metadata": {
        "id": "9qLMyKZJZ7C4",
        "colab_type": "text"
      },
      "source": [
        "\n",
        "O bairro com o aluguel mais barato é **Inagi Shi**. Inagi Shi está localizado na parte sul-central da metrópole de Tokyo, a aproximadamente 25 quilômetros do centro de Tokyo. Os turistas podem visitar *Sanrio Puroland* e *Susukino* são algumas das atrações populares em torno de Inagi-Shi.\n"
      ]
    },
    {
      "cell_type": "markdown",
      "metadata": {
        "id": "miN4FFVNDDjw",
        "colab_type": "text"
      },
      "source": [
        "### **Visualizando Dados Geográficos**\n",
        "\n",
        "Este dataset apresenta dados geograficos (latitude e longitude), é sempre bom criar um diagrama de dispersão geográfica para explorar e obter informações.\n",
        "\n",
        "\n",
        "Considera-se x=longitude e y=latitude"
      ]
    },
    {
      "cell_type": "code",
      "metadata": {
        "id": "UxVJqJ_3W59I",
        "colab_type": "code",
        "outputId": "7d4221c6-a51c-4226-e4de-5dccad3001db",
        "colab": {
          "base_uri": "https://localhost:8080/",
          "height": 309
        }
      },
      "source": [
        "# plotar os imóveis pela latitude-longitude\n",
        "\n",
        "df_clean.plot(kind=\"scatter\", x='longitude', y='latitude', alpha=0.4, c=df_clean['price'], s=6,\n",
        "              cmap=plt.get_cmap('jet'), figsize=(10,5));\n",
        "\n",
        "\n",
        "            "
      ],
      "execution_count": 0,
      "outputs": [
        {
          "output_type": "display_data",
          "data": {
            "image/png": "[encoded data removed]",
            "text/plain": [
              "<Figure size 720x360 with 2 Axes>"
            ]
          },
          "metadata": {
            "tags": [],
            "needs_background": "light"
          }
        }
      ]
    },
    {
      "cell_type": "markdown",
      "metadata": {
        "id": "j00EfCXjOUPa",
        "colab_type": "text"
      },
      "source": [
        "Os dados de longitude apresenta um ponto muito distânte dos demais, iremos excluir este ponto para melhor visualizarmos o diagrama."
      ]
    },
    {
      "cell_type": "code",
      "metadata": {
        "id": "-SCj8jNXNjQq",
        "colab_type": "code",
        "colab": {}
      },
      "source": [
        "# remover os *outliers* em um novo DataFrame (df_clean1)\n",
        "\n",
        "df_clean1 = df_clean.copy()\n",
        "\n",
        "df_clean1.drop(df_clean1[df_clean1.longitude > 140.0000].index, axis=0, inplace=True)"
      ],
      "execution_count": 0,
      "outputs": []
    },
    {
      "cell_type": "code",
      "metadata": {
        "id": "CprsalP-dvRi",
        "colab_type": "code",
        "outputId": "0c0ec1c0-8bf1-47ff-b5cc-892803b275f8",
        "colab": {
          "base_uri": "https://localhost:8080/",
          "height": 334
        }
      },
      "source": [
        "df_clean1.plot(kind=\"scatter\", x=\"longitude\", y=\"latitude\", alpha=0.4,\n",
        "    s=6, label=\"room_type\", figsize=(10,5),\n",
        "    c= \"price\", cmap=plt.get_cmap(\"jet\"), colorbar=True,\n",
        "    sharex=False)\n",
        "plt.legend();\n"
      ],
      "execution_count": 0,
      "outputs": [
        {
          "output_type": "display_data",
          "data": {
            "image/png": "[encoded data removed]",
            "text/plain": [
              "<Figure size 720x360 with 2 Axes>"
            ]
          },
          "metadata": {
            "tags": [],
            "needs_background": "light"
          }
        }
      ]
    },
    {
      "cell_type": "markdown",
      "metadata": {
        "id": "ie88ZfRYfh5z",
        "colab_type": "text"
      },
      "source": [
        "Agora é possível ver as áreas de alta densidade e com os maiores preços de aluguéis (bolas em vermelho)."
      ]
    },
    {
      "cell_type": "markdown",
      "metadata": {
        "id": "GkvAg623RjoR",
        "colab_type": "text"
      },
      "source": [
        "## Considerações finais\n"
      ]
    },
    {
      "cell_type": "markdown",
      "metadata": {
        "id": "rbZ3Hsy9Ypw8",
        "colab_type": "text"
      },
      "source": [
        "Esta foi uma análise básica utilizando a base de dados resumida do *Airbnb*. No entanto abordamos conceitos e aplicabilidades importântes para a carreira de **Data science**.\n",
        "\n",
        "Este projeto mostrou a relevância das etapas de exploração do *Dataset* e um direcionamento na interpretanção das variáveis, limpeza dos dados e escolhas dos melhores atributos antes de ir para a etapa de treinamento. \n",
        "\n",
        "Extraímos também informações para quem deseja conhecer Tokyo, como valor médio de aluguel, porcentagem de distribuição dos imóveis, os 10 bairros mais caros e os mais barratos.\n"
      ]
    }
  ]
}